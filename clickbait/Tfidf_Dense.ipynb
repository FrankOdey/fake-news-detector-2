{
 "cells": [
  {
   "cell_type": "code",
   "execution_count": 5,
   "metadata": {},
   "outputs": [],
   "source": [
    "import pandas as pd\n",
    "import numpy as np\n",
    "from sklearn.feature_extraction.text import TfidfVectorizer\n",
    "from sklearn.metrics import confusion_matrix, classification_report\n",
    "from sklearn.model_selection import train_test_split"
   ]
  },
  {
   "cell_type": "code",
   "execution_count": 3,
   "metadata": {},
   "outputs": [],
   "source": [
    "def parse_dataset():\n",
    "    clickbait = []\n",
    "    non_clickbait = []\n",
    "    with open(\"data/clickbait_data\", 'rt') as data_in:\n",
    "        for line in data_in:\n",
    "            if line.strip():\n",
    "                clickbait.append(line.strip())\n",
    "                \n",
    "                \n",
    "    with open(\"data/non_clickbait_data\", 'rt') as data_in:\n",
    "        for line in data_in:\n",
    "            if line.strip():\n",
    "                non_clickbait.append(line.strip())\n",
    "\n",
    "    return clickbait, non_clickbait\n",
    "\n",
    "clickbait, non_clickbait = parse_dataset()"
   ]
  },
  {
   "cell_type": "code",
   "execution_count": 4,
   "metadata": {},
   "outputs": [],
   "source": [
    "def preprocess_titles(titles): \n",
    "    return list(map(lambda x: x.lower(), titles))\n",
    "    \n",
    "def create_dataframe(clickbait=clickbait, non_clickbait=non_clickbait):\n",
    "    cb_df = pd.DataFrame({'clickbait': np.ones(len(clickbait)), 'title': preprocess_titles(clickbait)})\n",
    "    n_cb_df = pd.DataFrame({'clickbait': np.zeros(len(non_clickbait)), 'title': preprocess_titles(non_clickbait)})\n",
    "    return pd.concat([cb_df, n_cb_df], ignore_index=True)\n",
    "\n",
    "titles = create_dataframe()"
   ]
  },
  {
   "cell_type": "code",
   "execution_count": 6,
   "metadata": {},
   "outputs": [],
   "source": [
    "idf_tokenizer = TfidfVectorizer(max_features=30000, stop_words='english').fit(titles['title'])"
   ]
  },
  {
   "cell_type": "code",
   "execution_count": 7,
   "metadata": {},
   "outputs": [],
   "source": [
    "X_train, X_test, y_train, y_test = train_test_split(titles['title'], titles['clickbait'],\n",
    "                                                    stratify=titles['clickbait'], \n",
    "                                                    test_size=0.25)"
   ]
  },
  {
   "cell_type": "code",
   "execution_count": 13,
   "metadata": {},
   "outputs": [
    {
     "name": "stdout",
     "output_type": "stream",
     "text": [
      "(24000, 22492)\n",
      "(8000, 22492)\n"
     ]
    }
   ],
   "source": [
    "train_tokenized = idf_tokenizer.transform(X_train)\n",
    "test_tokenized = idf_tokenizer.transform(X_test)\n",
    "\n",
    "print(train_tokenized.shape)\n",
    "print(test_tokenized.shape)"
   ]
  },
  {
   "cell_type": "code",
   "execution_count": 36,
   "metadata": {},
   "outputs": [
    {
     "name": "stdout",
     "output_type": "stream",
     "text": [
      "_________________________________________________________________\n",
      "Layer (type)                 Output Shape              Param #   \n",
      "=================================================================\n",
      "dense_12 (Dense)             (None, 128)               2879104   \n",
      "_________________________________________________________________\n",
      "dense_13 (Dense)             (None, 128)               16512     \n",
      "_________________________________________________________________\n",
      "dropout_3 (Dropout)          (None, 128)               0         \n",
      "_________________________________________________________________\n",
      "dense_14 (Dense)             (None, 64)                8256      \n",
      "_________________________________________________________________\n",
      "dropout_4 (Dropout)          (None, 64)                0         \n",
      "_________________________________________________________________\n",
      "dense_15 (Dense)             (None, 32)                2080      \n",
      "_________________________________________________________________\n",
      "dense_16 (Dense)             (None, 1)                 33        \n",
      "=================================================================\n",
      "Total params: 2,905,985\n",
      "Trainable params: 2,905,985\n",
      "Non-trainable params: 0\n",
      "_________________________________________________________________\n"
     ]
    }
   ],
   "source": [
    "from keras.models import Sequential\n",
    "from keras.layers import Dense, Activation, Dropout\n",
    "\n",
    "model = Sequential()\n",
    "model.add(Dense(128, activation='relu', input_dim=train_tokenized.shape[1]))\n",
    "model.add(Dense(128, activation='relu'))\n",
    "model.add(Dropout(0.5))\n",
    "model.add(Dense(64, activation='relu'))\n",
    "model.add(Dropout(0.5))\n",
    "model.add(Dense(32, activation='relu'))\n",
    "model.add(Dense(1, activation='sigmoid'))\n",
    "model.compile(optimizer='adam',\n",
    "              loss='binary_crossentropy',\n",
    "              metrics=['accuracy'])\n",
    "model.summary()"
   ]
  },
  {
   "cell_type": "code",
   "execution_count": 37,
   "metadata": {},
   "outputs": [
    {
     "name": "stdout",
     "output_type": "stream",
     "text": [
      "Train on 16800 samples, validate on 7200 samples\n",
      "Epoch 1/150\n",
      "16800/16800 [==============================] - 14s 844us/step - loss: 0.3205 - acc: 0.8638 - val_loss: 0.1283 - val_acc: 0.9549\n",
      "Epoch 2/150\n",
      "16800/16800 [==============================] - 14s 821us/step - loss: 0.0545 - acc: 0.9816 - val_loss: 0.1355 - val_acc: 0.9522\n",
      "Epoch 3/150\n",
      "16800/16800 [==============================] - 14s 819us/step - loss: 0.0115 - acc: 0.9971 - val_loss: 0.2065 - val_acc: 0.9490\n",
      "Epoch 4/150\n",
      "16800/16800 [==============================] - 14s 818us/step - loss: 0.0021 - acc: 0.9996 - val_loss: 0.2601 - val_acc: 0.9519\n",
      "Epoch 5/150\n",
      "16800/16800 [==============================] - 14s 830us/step - loss: 9.7864e-04 - acc: 0.9999 - val_loss: 0.2857 - val_acc: 0.9522\n",
      "Epoch 6/150\n",
      "16800/16800 [==============================] - 14s 830us/step - loss: 6.9193e-04 - acc: 0.9998 - val_loss: 0.3220 - val_acc: 0.9497\n"
     ]
    },
    {
     "data": {
      "text/plain": [
       "<keras.callbacks.History at 0x7f99401a27f0>"
      ]
     },
     "execution_count": 37,
     "metadata": {},
     "output_type": "execute_result"
    }
   ],
   "source": [
    "from keras.callbacks import EarlyStopping\n",
    "\n",
    "early_stopping = EarlyStopping(patience=5)\n",
    "\n",
    "model.fit(train_tokenized, y_train, validation_split=0.3, epochs=50, batch_size=100, callbacks=[early_stopping])"
   ]
  },
  {
   "cell_type": "code",
   "execution_count": 38,
   "metadata": {},
   "outputs": [],
   "source": [
    "pred = model.predict_classes(test_tokenized)"
   ]
  },
  {
   "cell_type": "code",
   "execution_count": 39,
   "metadata": {},
   "outputs": [
    {
     "name": "stdout",
     "output_type": "stream",
     "text": [
      "             precision    recall  f1-score   support\n",
      "\n",
      "        0.0       0.96      0.94      0.95      4000\n",
      "        1.0       0.94      0.96      0.95      4000\n",
      "\n",
      "avg / total       0.95      0.95      0.95      8000\n",
      "\n",
      "[[3742  258]\n",
      " [ 158 3842]]\n"
     ]
    }
   ],
   "source": [
    "print(classification_report(y_pred=pred, y_true=y_test))\n",
    "print(confusion_matrix(y_test, pred))"
   ]
  },
  {
   "cell_type": "code",
   "execution_count": null,
   "metadata": {},
   "outputs": [],
   "source": []
  }
 ],
 "metadata": {
  "kernelspec": {
   "display_name": "Python 3",
   "language": "python",
   "name": "python3"
  },
  "language_info": {
   "codemirror_mode": {
    "name": "ipython",
    "version": 3
   },
   "file_extension": ".py",
   "mimetype": "text/x-python",
   "name": "python",
   "nbconvert_exporter": "python",
   "pygments_lexer": "ipython3",
   "version": "3.6.5"
  }
 },
 "nbformat": 4,
 "nbformat_minor": 2
}
