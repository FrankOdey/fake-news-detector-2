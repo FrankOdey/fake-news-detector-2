{
 "cells": [
  {
   "cell_type": "code",
   "execution_count": 1,
   "metadata": {},
   "outputs": [],
   "source": [
    "import pandas as pd\n",
    "import numpy as np\n",
    "import seaborn as sns\n",
    "import matplotlib.pyplot as plt"
   ]
  },
  {
   "cell_type": "code",
   "execution_count": 2,
   "metadata": {},
   "outputs": [],
   "source": [
    "def parse_dataset():\n",
    "    clickbait = []\n",
    "    non_clickbait = []\n",
    "    with open(\"data/clickbait_data\", 'rt') as data_in:\n",
    "        for line in data_in:\n",
    "            if line.strip():\n",
    "                clickbait.append(line.strip())\n",
    "                \n",
    "                \n",
    "    with open(\"data/non_clickbait_data\", 'rt') as data_in:\n",
    "        for line in data_in:\n",
    "            if line.strip():\n",
    "                non_clickbait.append(line.strip())\n",
    "\n",
    "    return clickbait, non_clickbait"
   ]
  },
  {
   "cell_type": "code",
   "execution_count": 3,
   "metadata": {},
   "outputs": [],
   "source": [
    "clickbait, non_clickbait = parse_dataset()"
   ]
  },
  {
   "cell_type": "code",
   "execution_count": 4,
   "metadata": {},
   "outputs": [
    {
     "data": {
      "text/plain": [
       "['Should I Get Bings',\n",
       " 'Which TV Female Friend Group Do You Belong In',\n",
       " 'The New \"Star Wars: The Force Awakens\" Trailer Is Here To Give You Chills',\n",
       " 'This Vine Of New York On \"Celebrity Big Brother\" Is Fucking Perfect',\n",
       " 'A Couple Did A Stunning Photo Shoot With Their Baby After Learning She Had An Inoperable Brain Tumor',\n",
       " 'How To Flirt With Queer Girls Without Making A Total Fool Of Yourself',\n",
       " '32 Cute Things To Distract From Your Awkward Thanksgiving',\n",
       " 'If Disney Princesses Were From Florida',\n",
       " \"What's A Quote Or Lyric That Best Describes Your Depression\",\n",
       " 'Natalie Dormer And Sam Claflin Play A Game To See How They\\'d Actually Last In \"The Hunger Games\"']"
      ]
     },
     "execution_count": 4,
     "metadata": {},
     "output_type": "execute_result"
    }
   ],
   "source": [
    "clickbait[:10]"
   ]
  },
  {
   "cell_type": "code",
   "execution_count": 5,
   "metadata": {},
   "outputs": [
    {
     "data": {
      "text/plain": [
       "['Bill Changing Credit Card Rules Is Sent to Obama With Gun Measure Included',\n",
       " 'In Hollywood, the Easy-Money Generation Toughens Up',\n",
       " \"1700 runners still unaccounted for in UK's Lake District following flood\",\n",
       " 'Yankees Pitchers Trade Fielding Drills for Putting Practice',\n",
       " 'Large earthquake rattles Indonesia; Seventh in two days',\n",
       " \"Coldplay's new album hits stores worldwide this week\",\n",
       " 'U.N. Leader Presses Sri Lanka on Speeding Relief to War Refugees in Camps',\n",
       " '2 Somali-Americans Charged With Aiding Terror',\n",
       " \"US Highway Administration releases interim report on Boston's Big Dig: press release claims tunnel safe, but report does not\",\n",
       " 'White House Announces International Meetings to Address Energy and Climate Issues']"
      ]
     },
     "execution_count": 5,
     "metadata": {},
     "output_type": "execute_result"
    }
   ],
   "source": [
    "non_clickbait[:10]"
   ]
  },
  {
   "cell_type": "code",
   "execution_count": 6,
   "metadata": {},
   "outputs": [],
   "source": [
    "from nltk.corpus import stopwords\n",
    "\n",
    "stop = stopwords.words('english')"
   ]
  },
  {
   "cell_type": "code",
   "execution_count": 7,
   "metadata": {},
   "outputs": [],
   "source": [
    "def most_common_words(sentences, num=25):    \n",
    "    words = ' '.join(sentences).lower().split()\n",
    "    words_cleaned = [word for word in words if word not in stop]\n",
    "    return pd.Series(words_cleaned).value_counts()[:num]"
   ]
  },
  {
   "cell_type": "code",
   "execution_count": 8,
   "metadata": {},
   "outputs": [
    {
     "name": "stdout",
     "output_type": "stream",
     "text": [
      "***** Clickbait *****\n",
      "things      994\n",
      "people      909\n",
      "know        800\n",
      "make        760\n",
      "17          670\n",
      "21          642\n",
      "based       607\n",
      "19          578\n",
      "actually    577\n",
      "times       507\n",
      "2015        494\n",
      "like        485\n",
      "best        465\n",
      "new         429\n",
      "here's      423\n",
      "need        403\n",
      "life        376\n",
      "23          368\n",
      "18          352\n",
      "15          346\n",
      "every       331\n",
      "ever        321\n",
      "get         315\n",
      "zodiac      295\n",
      "time        293\n",
      "dtype: int64\n",
      "***** Non-Clickbait *****\n",
      "new           797\n",
      "us            598\n",
      "u.s.          523\n",
      "dies          341\n",
      "killed        333\n",
      "dead          321\n",
      "president     288\n",
      "uk            282\n",
      "kills         277\n",
      "australian    270\n",
      "says          269\n",
      "wins          268\n",
      "first         262\n",
      "two           247\n",
      "police        234\n",
      "obama         232\n",
      "court         223\n",
      "british       222\n",
      "world         217\n",
      "iraq          213\n",
      "china         208\n",
      "former        194\n",
      "found         193\n",
      "crash         191\n",
      "may           190\n",
      "dtype: int64\n"
     ]
    }
   ],
   "source": [
    "print('***** Clickbait *****')\n",
    "print(most_common_words(clickbait))\n",
    "print('***** Non-Clickbait *****')\n",
    "print(most_common_words(non_clickbait))"
   ]
  },
  {
   "cell_type": "code",
   "execution_count": 12,
   "metadata": {},
   "outputs": [],
   "source": [
    "titles = clickbait + non_clickbait"
   ]
  },
  {
   "cell_type": "code",
   "execution_count": 28,
   "metadata": {},
   "outputs": [],
   "source": [
    "def word_count(sentences=titles):\n",
    "    word_counts = list(map(lambda x: len(x.split()), sentences))\n",
    "    return word_counts\n",
    "\n",
    "def plot_counts(counts):\n",
    "    print('Min Count:', np.min(counts))\n",
    "    print('Mean Count:', np.mean(counts))\n",
    "    print('Max Count:', np.max(counts))\n",
    "    sns.distplot(counts)\n",
    "    plt.show()"
   ]
  },
  {
   "cell_type": "code",
   "execution_count": 30,
   "metadata": {},
   "outputs": [
    {
     "name": "stdout",
     "output_type": "stream",
     "text": [
      "Min Count: 1\n",
      "Mean Count: 9.06515625\n",
      "Max Count: 26\n"
     ]
    },
    {
     "data": {
      "image/png": "[encoded data removed]",
      "text/plain": [
       "<matplotlib.figure.Figure at 0x7f2e47a55d68>"
      ]
     },
     "metadata": {},
     "output_type": "display_data"
    }
   ],
   "source": [
    "plot_counts(word_count())"
   ]
  },
  {
   "cell_type": "code",
   "execution_count": 35,
   "metadata": {},
   "outputs": [
    {
     "data": {
      "text/plain": [
       "(30261,)"
      ]
     },
     "execution_count": 35,
     "metadata": {},
     "output_type": "execute_result"
    }
   ],
   "source": [
    "words = []\n",
    "for title in titles:\n",
    "    words += title.lower().split()\n",
    "\n",
    "np.unique([word for word in words if word not in stop]).shape"
   ]
  },
  {
   "cell_type": "code",
   "execution_count": null,
   "metadata": {},
   "outputs": [],
   "source": []
  }
 ],
 "metadata": {
  "kernelspec": {
   "display_name": "Python 3",
   "language": "python",
   "name": "python3"
  },
  "language_info": {
   "codemirror_mode": {
    "name": "ipython",
    "version": 3
   },
   "file_extension": ".py",
   "mimetype": "text/x-python",
   "name": "python",
   "nbconvert_exporter": "python",
   "pygments_lexer": "ipython3",
   "version": "3.6.5"
  }
 },
 "nbformat": 4,
 "nbformat_minor": 2
}
