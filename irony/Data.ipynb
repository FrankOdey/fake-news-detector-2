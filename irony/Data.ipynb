{
 "cells": [
  {
   "cell_type": "code",
   "execution_count": 45,
   "metadata": {},
   "outputs": [],
   "source": [
    "import pandas as pd\n",
    "import numpy as np\n",
    "import seaborn as sns\n",
    "import matplotlib.pyplot as plt"
   ]
  },
  {
   "cell_type": "code",
   "execution_count": 11,
   "metadata": {},
   "outputs": [],
   "source": [
    "def parse_dataset(fp):\n",
    "    '''\n",
    "    Loads the dataset .txt file with label-tweet on each line and parses the dataset.\n",
    "    :param fp: filepath of dataset\n",
    "    :return:\n",
    "        corpus: list of tweet strings of each tweet.\n",
    "        y: list of labels\n",
    "    '''\n",
    "    y = []\n",
    "    corpus = []\n",
    "    with open(fp, 'rt') as data_in:\n",
    "        for line in data_in:\n",
    "            if not line.lower().startswith(\"tweet index\"): # discard first line if it contains metadata\n",
    "                line = line.rstrip() # remove trailing whitespace\n",
    "                label = int(line.split(\"\\t\")[1])\n",
    "                tweet = line.split(\"\\t\")[2]\n",
    "                y.append(label)\n",
    "                corpus.append(tweet)\n",
    "\n",
    "    return corpus, y"
   ]
  },
  {
   "cell_type": "code",
   "execution_count": 27,
   "metadata": {},
   "outputs": [],
   "source": [
    "tweets, labels = parse_dataset('datasets/train/SemEval2018-T3-train-taskA.txt')"
   ]
  },
  {
   "cell_type": "code",
   "execution_count": 29,
   "metadata": {},
   "outputs": [
    {
     "data": {
      "text/html": [
       "<div>\n",
       "<style scoped>\n",
       "    .dataframe tbody tr th:only-of-type {\n",
       "        vertical-align: middle;\n",
       "    }\n",
       "\n",
       "    .dataframe tbody tr th {\n",
       "        vertical-align: top;\n",
       "    }\n",
       "\n",
       "    .dataframe thead th {\n",
       "        text-align: right;\n",
       "    }\n",
       "</style>\n",
       "<table border=\"1\" class=\"dataframe\">\n",
       "  <thead>\n",
       "    <tr style=\"text-align: right;\">\n",
       "      <th></th>\n",
       "      <th>Labels</th>\n",
       "      <th>Tweets</th>\n",
       "    </tr>\n",
       "  </thead>\n",
       "  <tbody>\n",
       "    <tr>\n",
       "      <th>0</th>\n",
       "      <td>1</td>\n",
       "      <td>Sweet United Nations video. Just in time for C...</td>\n",
       "    </tr>\n",
       "    <tr>\n",
       "      <th>1</th>\n",
       "      <td>1</td>\n",
       "      <td>@mrdahl87 We are rumored to have talked to Erv...</td>\n",
       "    </tr>\n",
       "    <tr>\n",
       "      <th>2</th>\n",
       "      <td>1</td>\n",
       "      <td>Hey there! Nice to see you Minnesota/ND Winter...</td>\n",
       "    </tr>\n",
       "    <tr>\n",
       "      <th>3</th>\n",
       "      <td>0</td>\n",
       "      <td>3 episodes left I'm dying over here</td>\n",
       "    </tr>\n",
       "    <tr>\n",
       "      <th>4</th>\n",
       "      <td>1</td>\n",
       "      <td>\"I can't breathe!\" was chosen as the most nota...</td>\n",
       "    </tr>\n",
       "    <tr>\n",
       "      <th>5</th>\n",
       "      <td>0</td>\n",
       "      <td>You're never too old for Footie Pajamas. http:...</td>\n",
       "    </tr>\n",
       "    <tr>\n",
       "      <th>6</th>\n",
       "      <td>1</td>\n",
       "      <td>Nothing makes me happier then getting on the h...</td>\n",
       "    </tr>\n",
       "    <tr>\n",
       "      <th>7</th>\n",
       "      <td>0</td>\n",
       "      <td>4:30 an opening my first beer now gonna be a l...</td>\n",
       "    </tr>\n",
       "    <tr>\n",
       "      <th>8</th>\n",
       "      <td>0</td>\n",
       "      <td>@Adam_Klug do you think you would support a gu...</td>\n",
       "    </tr>\n",
       "    <tr>\n",
       "      <th>9</th>\n",
       "      <td>0</td>\n",
       "      <td>@samcguigan544 You are not allowed to open tha...</td>\n",
       "    </tr>\n",
       "  </tbody>\n",
       "</table>\n",
       "</div>"
      ],
      "text/plain": [
       "   Labels                                             Tweets\n",
       "0       1  Sweet United Nations video. Just in time for C...\n",
       "1       1  @mrdahl87 We are rumored to have talked to Erv...\n",
       "2       1  Hey there! Nice to see you Minnesota/ND Winter...\n",
       "3       0                3 episodes left I'm dying over here\n",
       "4       1  \"I can't breathe!\" was chosen as the most nota...\n",
       "5       0  You're never too old for Footie Pajamas. http:...\n",
       "6       1  Nothing makes me happier then getting on the h...\n",
       "7       0  4:30 an opening my first beer now gonna be a l...\n",
       "8       0  @Adam_Klug do you think you would support a gu...\n",
       "9       0  @samcguigan544 You are not allowed to open tha..."
      ]
     },
     "execution_count": 29,
     "metadata": {},
     "output_type": "execute_result"
    }
   ],
   "source": [
    "data = pd.DataFrame({'Tweets': tweets, 'Labels':labels})\n",
    "data[:10]"
   ]
  },
  {
   "cell_type": "code",
   "execution_count": 31,
   "metadata": {},
   "outputs": [
    {
     "name": "stdout",
     "output_type": "stream",
     "text": [
      "Ironic shape (1911, 2)\n",
      "Non ironic shape (1923, 2)\n"
     ]
    }
   ],
   "source": [
    "ironic = data[data['Labels'] == 1]\n",
    "non_ironic = data[data['Labels'] == 0]\n",
    "\n",
    "print('Ironic shape', ironic.shape)\n",
    "print('Non ironic shape', non_ironic.shape)"
   ]
  },
  {
   "cell_type": "code",
   "execution_count": 32,
   "metadata": {},
   "outputs": [],
   "source": [
    "from nltk.corpus import stopwords\n",
    "\n",
    "stop = stopwords.words('english')"
   ]
  },
  {
   "cell_type": "code",
   "execution_count": 33,
   "metadata": {},
   "outputs": [],
   "source": [
    "def most_common_words(df, num=25):    \n",
    "    words = ' '.join(df['Tweets']).lower().split()\n",
    "    words_cleaned = [word for word in words if word not in stop]\n",
    "    return pd.Series(words_cleaned).value_counts()[:num]\n"
   ]
  },
  {
   "cell_type": "code",
   "execution_count": 35,
   "metadata": {},
   "outputs": [
    {
     "name": "stdout",
     "output_type": "stream",
     "text": [
      "***** Ironic *****\n",
      "love         160\n",
      "i'm          113\n",
      "like          94\n",
      "great         83\n",
      "get           81\n",
      "day           79\n",
      "people        61\n",
      "good          60\n",
      "can't         54\n",
      "one           52\n",
      "going         50\n",
      "oh            48\n",
      "time          48\n",
      "really        48\n",
      "know          46\n",
      "see           46\n",
      "work          46\n",
      "christmas     43\n",
      "thanks        43\n",
      "fun           42\n",
      "that's        41\n",
      "&             41\n",
      "well          40\n",
      "way           39\n",
      "much          38\n",
      "dtype: int64\n",
      "***** Non-ironic *****\n",
      "i'm          91\n",
      "get          80\n",
      "&            72\n",
      "like         71\n",
      "-            57\n",
      "one          55\n",
      "would        52\n",
      "think        45\n",
      "new          44\n",
      "day          44\n",
      "love         44\n",
      "know         42\n",
      "need         41\n",
      "go           39\n",
      "see          39\n",
      "still        39\n",
      "can't        39\n",
      "people       36\n",
      "christmas    35\n",
      "make         35\n",
      "good         35\n",
      "via          35\n",
      "time         34\n",
      "right        34\n",
      "back         34\n",
      "dtype: int64\n"
     ]
    }
   ],
   "source": [
    "print('***** Ironic *****')\n",
    "print(most_common_words(ironic))\n",
    "print('***** Non-ironic *****')\n",
    "print(most_common_words(non_ironic))"
   ]
  },
  {
   "cell_type": "code",
   "execution_count": 39,
   "metadata": {},
   "outputs": [],
   "source": [
    "def word_count(X=data, col='Tweets'):\n",
    "    word_counts = list(map(lambda x: len(x), X[col].str.split(' ')))\n",
    "    return word_counts\n",
    "\n",
    "def plot_counts(counts):\n",
    "    print('Min Count:', np.min(counts))\n",
    "    print('Mean Count:', np.mean(counts))\n",
    "    print('Max Count:', np.max(counts))\n",
    "    sns.distplot(counts)\n",
    "    plt.show()"
   ]
  },
  {
   "cell_type": "code",
   "execution_count": 46,
   "metadata": {},
   "outputs": [
    {
     "name": "stdout",
     "output_type": "stream",
     "text": [
      "Min Count: 1\n",
      "Mean Count: 14.0195618153\n",
      "Max Count: 33\n"
     ]
    },
    {
     "data": {
      "image/png": "[encoded data removed]",
      "text/plain": [
       "<matplotlib.figure.Figure at 0x7f94106ed048>"
      ]
     },
     "metadata": {},
     "output_type": "display_data"
    }
   ],
   "source": [
    "plot_counts(word_count())"
   ]
  },
  {
   "cell_type": "code",
   "execution_count": 72,
   "metadata": {},
   "outputs": [
    {
     "data": {
      "text/plain": [
       "(16920,)"
      ]
     },
     "execution_count": 72,
     "metadata": {},
     "output_type": "execute_result"
    }
   ],
   "source": [
    "words = np.concatenate(data['Tweets'].str.lower().str.split())\n",
    "np.unique([word for word in words if word not in stop]).shape"
   ]
  },
  {
   "cell_type": "code",
   "execution_count": null,
   "metadata": {},
   "outputs": [],
   "source": []
  },
  {
   "cell_type": "code",
   "execution_count": null,
   "metadata": {},
   "outputs": [],
   "source": []
  }
 ],
 "metadata": {
  "kernelspec": {
   "display_name": "Python 3",
   "language": "python",
   "name": "python3"
  },
  "language_info": {
   "codemirror_mode": {
    "name": "ipython",
    "version": 3
   },
   "file_extension": ".py",
   "mimetype": "text/x-python",
   "name": "python",
   "nbconvert_exporter": "python",
   "pygments_lexer": "ipython3",
   "version": "3.5.2"
  },
  "widgets": {
   "state": {},
   "version": "1.1.2"
  }
 },
 "nbformat": 4,
 "nbformat_minor": 2
}
