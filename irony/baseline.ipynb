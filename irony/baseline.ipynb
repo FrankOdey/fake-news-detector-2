{
 "cells": [
  {
   "cell_type": "code",
   "execution_count": 1,
   "metadata": {},
   "outputs": [],
   "source": [
    "import os\n",
    "import sys\n",
    "module_path = os.path.abspath(os.path.join('..'))\n",
    "if module_path not in sys.path:\n",
    "    sys.path.append(module_path)"
   ]
  },
  {
   "cell_type": "code",
   "execution_count": 15,
   "metadata": {},
   "outputs": [],
   "source": [
    "import pandas as pd\n",
    "import numpy as np\n",
    "\n",
    "from sklearn.feature_extraction.text import TfidfVectorizer, CountVectorizer\n",
    "from sklearn.linear_model import LogisticRegression\n",
    "from sklearn.pipeline import Pipeline\n",
    "from sklearn.model_selection import cross_val_score, cross_val_predict\n",
    "from sklearn.metrics import confusion_matrix,classification_report\n",
    "from sklearn.model_selection import RandomizedSearchCV, GridSearchCV\n",
    "\n",
    "from Utilities import plots\n",
    "from Utilities.preprocessing import parse_dataset"
   ]
  },
  {
   "cell_type": "code",
   "execution_count": 3,
   "metadata": {},
   "outputs": [
    {
     "name": "stdout",
     "output_type": "stream",
     "text": [
      "['Sweet United Nations video. Just in time for Christmas. #imagine #NoReligion  http://t.co/fej2v3OUBR', \"@mrdahl87 We are rumored to have talked to Erv's agent... and the Angels asked about Ed Escobar... that's hardly nothing    ;)\", 'Hey there! Nice to see you Minnesota/ND Winter Weather', \"3 episodes left I'm dying over here\", '\"I can\\'t breathe!\" was chosen as the most notable quote of the year in an annual list released by a Yale University librarian']\n",
      "[1, 1, 1, 0, 1]\n"
     ]
    }
   ],
   "source": [
    "tweets, labels = parse_dataset('datasets/train/SemEval2018-T3-train-taskA.txt')\n",
    "print(tweets[:5])\n",
    "print(labels[:5])"
   ]
  },
  {
   "cell_type": "code",
   "execution_count": 30,
   "metadata": {},
   "outputs": [],
   "source": [
    "baseline = Pipeline([\n",
    "    ('tfidf', TfidfVectorizer()),\n",
    "    ('logreg', LogisticRegression(C=10))\n",
    "])"
   ]
  },
  {
   "cell_type": "code",
   "execution_count": 31,
   "metadata": {},
   "outputs": [],
   "source": [
    "def show_scores(model, x = tweets, y = labels):\n",
    "    cv_score = cross_val_score(model, x, y, cv=5, n_jobs=-1)\n",
    "    print('Cross val score', cv_score, cv_score.mean())\n",
    "    predict = cross_val_predict(model, x, y, cv=5, n_jobs=-1)\n",
    "    print(classification_report(y_pred =predict, y_true=y))\n",
    "    print(\"Confusion Matrix:\")\n",
    "    print(confusion_matrix(y, predict))"
   ]
  },
  {
   "cell_type": "code",
   "execution_count": 32,
   "metadata": {},
   "outputs": [
    {
     "name": "stdout",
     "output_type": "stream",
     "text": [
      "Cross val score [ 0.66276042  0.65449804  0.62581486  0.67885117  0.61227154] 0.646839207901\n",
      "             precision    recall  f1-score   support\n",
      "\n",
      "          0       0.64      0.66      0.65      1923\n",
      "          1       0.65      0.63      0.64      1911\n",
      "\n",
      "avg / total       0.65      0.65      0.65      3834\n",
      "\n",
      "Confusion Matrix:\n",
      "[[1272  651]\n",
      " [ 703 1208]]\n"
     ]
    }
   ],
   "source": [
    "show_scores(baseline)"
   ]
  },
  {
   "cell_type": "code",
   "execution_count": 33,
   "metadata": {},
   "outputs": [
    {
     "name": "stdout",
     "output_type": "stream",
     "text": [
      "Cross val score [ 0.6640625   0.65189048  0.60886571  0.66971279  0.61096606] 0.641099508827\n",
      "             precision    recall  f1-score   support\n",
      "\n",
      "          0       0.65      0.61      0.63      1923\n",
      "          1       0.63      0.67      0.65      1911\n",
      "\n",
      "avg / total       0.64      0.64      0.64      3834\n",
      "\n",
      "Confusion Matrix:\n",
      "[[1179  744]\n",
      " [ 632 1279]]\n"
     ]
    }
   ],
   "source": [
    "from sklearn.svm import LinearSVC\n",
    "show_scores(Pipeline([\n",
    "    ('count', CountVectorizer()),\n",
    "    ('logreg', LinearSVC(C=0.01))\n",
    "]))"
   ]
  }
 ],
 "metadata": {
  "kernelspec": {
   "display_name": "Python 3",
   "language": "python",
   "name": "python3"
  },
  "language_info": {
   "codemirror_mode": {
    "name": "ipython",
    "version": 3
   },
   "file_extension": ".py",
   "mimetype": "text/x-python",
   "name": "python",
   "nbconvert_exporter": "python",
   "pygments_lexer": "ipython3",
   "version": "3.5.2"
  },
  "widgets": {
   "state": {},
   "version": "1.1.2"
  }
 },
 "nbformat": 4,
 "nbformat_minor": 2
}
