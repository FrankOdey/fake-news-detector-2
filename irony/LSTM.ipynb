{
 "cells": [
  {
   "cell_type": "code",
   "execution_count": 1,
   "metadata": {},
   "outputs": [
    {
     "name": "stderr",
     "output_type": "stream",
     "text": [
      "Using TensorFlow backend.\n"
     ]
    }
   ],
   "source": [
    "import pandas as pd\n",
    "import numpy as np\n",
    "\n",
    "from keras.preprocessing.text import Tokenizer\n",
    "from keras.preprocessing.sequence import pad_sequences\n",
    "from keras.optimizers import SGD\n",
    "\n",
    "from keras.models import Sequential\n",
    "from keras.layers import Input ,Embedding, Bidirectional, LSTM, Dense, Dropout, BatchNormalization, Flatten, GlobalMaxPooling1D"
   ]
  },
  {
   "cell_type": "code",
   "execution_count": 2,
   "metadata": {},
   "outputs": [],
   "source": [
    "def parse_dataset(fp):\n",
    "    '''\n",
    "    Loads the dataset .txt file with label-tweet on each line and parses the dataset.\n",
    "    :param fp: filepath of dataset\n",
    "    :return:\n",
    "        corpus: list of tweet strings of each tweet.\n",
    "        y: list of labels\n",
    "    '''\n",
    "    y = []\n",
    "    corpus = []\n",
    "    with open(fp, 'rt') as data_in:\n",
    "        for line in data_in:\n",
    "            if not line.lower().startswith(\"tweet index\"): # discard first line if it contains metadata\n",
    "                line = line.rstrip() # remove trailing whitespace\n",
    "                label = int(line.split(\"\\t\")[1])\n",
    "                tweet = line.split(\"\\t\")[2]\n",
    "                y.append(label)\n",
    "                corpus.append(tweet)\n",
    "\n",
    "    return corpus, y"
   ]
  },
  {
   "cell_type": "code",
   "execution_count": 3,
   "metadata": {},
   "outputs": [],
   "source": [
    "tweets, labels = parse_dataset('datasets/train/SemEval2018-T3-train-taskA.txt')"
   ]
  },
  {
   "cell_type": "code",
   "execution_count": 8,
   "metadata": {},
   "outputs": [],
   "source": [
    "num_words = 10000\n",
    "maxlen=32\n",
    "tokenizer = Tokenizer(num_words=num_words)\n",
    "tokenizer.fit_on_texts(tweets)"
   ]
  },
  {
   "cell_type": "code",
   "execution_count": 18,
   "metadata": {},
   "outputs": [
    {
     "data": {
      "text/plain": [
       "12923"
      ]
     },
     "execution_count": 18,
     "metadata": {},
     "output_type": "execute_result"
    }
   ],
   "source": [
    "len(tokenizer.word_index)"
   ]
  },
  {
   "cell_type": "code",
   "execution_count": 26,
   "metadata": {},
   "outputs": [],
   "source": [
    "import os\n",
    "import sys\n",
    "module_path = os.path.abspath(os.path.join('..'))\n",
    "if module_path not in sys.path:\n",
    "    sys.path.append(module_path)"
   ]
  },
  {
   "cell_type": "code",
   "execution_count": 28,
   "metadata": {},
   "outputs": [
    {
     "name": "stdout",
     "output_type": "stream",
     "text": [
      "Found 400000 word vectors.\n"
     ]
    }
   ],
   "source": [
    "from common.GloveEmbeddings import GloveEmbeddings\n",
    "embeddings = GloveEmbeddings(\n",
    "        '/media/radoslav/ce763dbf-b2a6-4110-960f-2ef10c8c6bde/MachineLearning/glove.6B/glove.6B.100d.txt',\n",
    "        100).load().get_embedding_matrix_for_tokenizer(tokenizer)"
   ]
  },
  {
   "cell_type": "code",
   "execution_count": 35,
   "metadata": {},
   "outputs": [],
   "source": [
    "processed = tokenizer.texts_to_sequences(tweets)\n",
    "processed = pad_sequences(processed, maxlen=maxlen)"
   ]
  },
  {
   "cell_type": "code",
   "execution_count": 36,
   "metadata": {},
   "outputs": [
    {
     "data": {
      "text/plain": [
       "(3834, 32)"
      ]
     },
     "execution_count": 36,
     "metadata": {},
     "output_type": "execute_result"
    }
   ],
   "source": [
    "processed.shape"
   ]
  },
  {
   "cell_type": "code",
   "execution_count": 37,
   "metadata": {},
   "outputs": [],
   "source": [
    "def get_model():\n",
    "    model = Sequential()\n",
    "\n",
    "    model.add(Embedding(embeddings.shape[0], embeddings.shape[1], weights=[embeddings], trainable=False))\n",
    "    model.add(Bidirectional(LSTM(40, dropout=0.3)))\n",
    "    model.add(Dense(units=1, activation='sigmoid'))\n",
    "    model.compile(optimizer='adam', loss='binary_crossentropy', metrics=['accuracy'])\n",
    "    \n",
    "    return model\n"
   ]
  },
  {
   "cell_type": "code",
   "execution_count": 38,
   "metadata": {},
   "outputs": [
    {
     "name": "stdout",
     "output_type": "stream",
     "text": [
      "_________________________________________________________________\n",
      "Layer (type)                 Output Shape              Param #   \n",
      "=================================================================\n",
      "embedding_5 (Embedding)      (None, None, 100)         1292400   \n",
      "_________________________________________________________________\n",
      "bidirectional_5 (Bidirection (None, 80)                45120     \n",
      "_________________________________________________________________\n",
      "dense_5 (Dense)              (None, 1)                 81        \n",
      "=================================================================\n",
      "Total params: 1,337,601\n",
      "Trainable params: 45,201\n",
      "Non-trainable params: 1,292,400\n",
      "_________________________________________________________________\n"
     ]
    }
   ],
   "source": [
    "model = get_model()\n",
    "model.summary()"
   ]
  },
  {
   "cell_type": "code",
   "execution_count": 39,
   "metadata": {
    "scrolled": true
   },
   "outputs": [
    {
     "name": "stdout",
     "output_type": "stream",
     "text": [
      "Train on 3067 samples, validate on 767 samples\n",
      "Epoch 1/100\n",
      "3067/3067 [==============================] - 2s 490us/step - loss: 0.6837 - acc: 0.5585 - val_loss: 0.6736 - val_acc: 0.5632\n",
      "Epoch 2/100\n",
      "3067/3067 [==============================] - 1s 201us/step - loss: 0.6700 - acc: 0.5872 - val_loss: 0.6745 - val_acc: 0.5737\n",
      "Epoch 3/100\n",
      "3067/3067 [==============================] - 1s 205us/step - loss: 0.6641 - acc: 0.5980 - val_loss: 0.6737 - val_acc: 0.5763\n",
      "Epoch 4/100\n",
      "3067/3067 [==============================] - 1s 216us/step - loss: 0.6601 - acc: 0.6032 - val_loss: 0.6710 - val_acc: 0.5841\n",
      "Epoch 5/100\n",
      "3067/3067 [==============================] - 1s 209us/step - loss: 0.6558 - acc: 0.6136 - val_loss: 0.6684 - val_acc: 0.5802\n",
      "Epoch 6/100\n",
      "3067/3067 [==============================] - 1s 207us/step - loss: 0.6491 - acc: 0.6211 - val_loss: 0.6654 - val_acc: 0.6010\n",
      "Epoch 7/100\n",
      "3067/3067 [==============================] - 1s 214us/step - loss: 0.6436 - acc: 0.6335 - val_loss: 0.6631 - val_acc: 0.6010\n",
      "Epoch 8/100\n",
      "3067/3067 [==============================] - 1s 215us/step - loss: 0.6366 - acc: 0.6404 - val_loss: 0.6656 - val_acc: 0.5984\n",
      "Epoch 9/100\n",
      "3067/3067 [==============================] - 1s 211us/step - loss: 0.6385 - acc: 0.6368 - val_loss: 0.6614 - val_acc: 0.6167\n",
      "Epoch 10/100\n",
      "3067/3067 [==============================] - 1s 213us/step - loss: 0.6286 - acc: 0.6426 - val_loss: 0.6631 - val_acc: 0.6245\n",
      "Epoch 11/100\n",
      "3067/3067 [==============================] - 1s 212us/step - loss: 0.6250 - acc: 0.6583 - val_loss: 0.6633 - val_acc: 0.6167\n",
      "Epoch 12/100\n",
      "3067/3067 [==============================] - 1s 216us/step - loss: 0.6118 - acc: 0.6570 - val_loss: 0.6639 - val_acc: 0.6023\n",
      "Epoch 13/100\n",
      "3067/3067 [==============================] - 1s 210us/step - loss: 0.6127 - acc: 0.6603 - val_loss: 0.6643 - val_acc: 0.5958\n",
      "Epoch 14/100\n",
      "3067/3067 [==============================] - 1s 208us/step - loss: 0.6058 - acc: 0.6726 - val_loss: 0.6631 - val_acc: 0.6141\n"
     ]
    },
    {
     "data": {
      "text/plain": [
       "<keras.callbacks.History at 0x7f1e5cb53cf8>"
      ]
     },
     "execution_count": 39,
     "metadata": {},
     "output_type": "execute_result"
    }
   ],
   "source": [
    "from keras.callbacks import EarlyStopping\n",
    "earlyStopping = EarlyStopping(patience=5)\n",
    "model.fit(processed, labels, batch_size=256, epochs=100, validation_split=0.2, callbacks=[earlyStopping])\n"
   ]
  },
  {
   "cell_type": "code",
   "execution_count": null,
   "metadata": {},
   "outputs": [],
   "source": []
  }
 ],
 "metadata": {
  "kernelspec": {
   "display_name": "Python 3",
   "language": "python",
   "name": "python3"
  },
  "language_info": {
   "codemirror_mode": {
    "name": "ipython",
    "version": 3
   },
   "file_extension": ".py",
   "mimetype": "text/x-python",
   "name": "python",
   "nbconvert_exporter": "python",
   "pygments_lexer": "ipython3",
   "version": "3.5.2"
  },
  "widgets": {
   "state": {},
   "version": "1.1.2"
  }
 },
 "nbformat": 4,
 "nbformat_minor": 2
}
